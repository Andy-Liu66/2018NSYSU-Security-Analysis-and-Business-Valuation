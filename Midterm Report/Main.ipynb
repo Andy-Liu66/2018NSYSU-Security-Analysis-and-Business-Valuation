{
 "cells": [
  {
   "cell_type": "code",
   "execution_count": 1,
   "metadata": {
    "collapsed": true
   },
   "outputs": [],
   "source": [
    "import pandas as pd\n",
    "import numpy as np\n",
    "import matplotlib.pyplot as plt\n",
    "%matplotlib inline"
   ]
  },
  {
   "cell_type": "code",
   "execution_count": 2,
   "metadata": {
    "collapsed": true
   },
   "outputs": [],
   "source": [
    "fin_report = pd.read_csv(\"fin_report.csv\")"
   ]
  },
  {
   "cell_type": "code",
   "execution_count": 3,
   "metadata": {
    "collapsed": true
   },
   "outputs": [],
   "source": [
    "#定義策略 → 預期股利率 >= 4% 且 EPS同比成長 >= 6% 且 TTM PE <= 15才進場，只要下期不符合就出場\n",
    "def basic_analysis_strategy(data):\n",
    "    data.reset_index(inplace = True)\n",
    "    data[\"position\"] = np.zeros(len(data))\n",
    "    has_position = False\n",
    "    for i in range(4, len(data)):\n",
    "        if ((data[\"Expeceted_Dividend_Rate\"][i] >= 0.04) and (data[\"EPS_growth\"][i] >= 0.06) and (data[\"TTM_PE\"][i] <= 15)):\n",
    "            if not has_position:\n",
    "                data[\"position\"].iloc[i] = 1\n",
    "                has_position = True\n",
    "        elif ((data[\"Expeceted_Dividend_Rate\"][i] <= 0.04) or (data[\"EPS_growth\"][i] <= 0.06) or (data[\"TTM_PE\"][i] > 15)):\n",
    "            if has_position:\n",
    "                data[\"position\"].iloc[i] = -1\n",
    "                has_position = False\n",
    "    return(data[\"position\"])\n",
    "\n",
    "#以下跑策略找進出場點\n",
    "temp_result = fin_report.groupby(\"Code\", sort = False, group_keys = False).apply(basic_analysis_strategy)\n",
    "\n",
    "result = []\n",
    "for i in range(len(temp_result)):\n",
    "    result = np.append(result, temp_result.iloc[i, :])\n",
    "    \n",
    "fin_report[\"Position\"] = result"
   ]
  },
  {
   "cell_type": "code",
   "execution_count": 4,
   "metadata": {
    "collapsed": true
   },
   "outputs": [],
   "source": [
    "stockprice = pd.read_excel(\"stockprice.xlsx\")\n",
    "stockprice.columns = [\"Company\", \"Date\", \"Code\", \"Close\"]\n",
    "stockprice[\"Date\"] = pd.to_datetime(stockprice[\"Date\"])"
   ]
  },
  {
   "cell_type": "code",
   "execution_count": 5,
   "metadata": {
    "collapsed": true
   },
   "outputs": [],
   "source": [
    "#建立函數創造季節的欄位，方便等等merge\n",
    "def create_season_id(x):\n",
    "    if(x.month == 5):\n",
    "        return(1)\n",
    "    elif(x.month == 8):\n",
    "        return(2)\n",
    "    elif(x.month == 11):\n",
    "        return(3)\n",
    "    elif(x.month == 3):\n",
    "        return(4)\n",
    "\n",
    "#執行函數\n",
    "stockprice[\"Season\"] = stockprice.Date.apply(create_season_id)"
   ]
  },
  {
   "cell_type": "code",
   "execution_count": 6,
   "metadata": {
    "collapsed": true
   },
   "outputs": [],
   "source": [
    "#建立函數創造年的欄位，方便等等merge\n",
    "def create_year_id(x):\n",
    "    if (x.month == 3):\n",
    "        return(x.year - 1)\n",
    "    else:\n",
    "        return(x.year)\n",
    "    \n",
    "#執行函數\n",
    "stockprice[\"Year\"] = stockprice.Date.apply(create_year_id)"
   ]
  },
  {
   "cell_type": "code",
   "execution_count": 7,
   "metadata": {
    "collapsed": true
   },
   "outputs": [],
   "source": [
    "stockprice = stockprice[[\"Company\", \"Code\", \"Year\", \"Season\", \"Date\", \"Close\"]]\n",
    "\n",
    "consider_list = stockprice.Code.unique()[stockprice.groupby(\"Code\", sort = False).apply(lambda x : len(x)) == 17]\n",
    "stockprice = stockprice[stockprice.Code.isin(consider_list)]"
   ]
  },
  {
   "cell_type": "code",
   "execution_count": 8,
   "metadata": {
    "collapsed": true
   },
   "outputs": [],
   "source": [
    "#合併股價與財報\n",
    "temp_result = pd.merge(fin_report, stockprice, on = [\"Code\", \"Year\", \"Season\"])"
   ]
  },
  {
   "cell_type": "code",
   "execution_count": 9,
   "metadata": {
    "collapsed": true
   },
   "outputs": [],
   "source": [
    "temp_result = temp_result[[\"Company_x\", \"Industry\", \"Code\", \"Year\", \"Season\", \"announce_day\", \"Date\", \"TTM_PE\", \"EPS_growth\", \"Expeceted_Dividend_Rate\", \"Position\", \"Close\"]]\n",
    "temp_result.columns = [\"Company\", \"Industry\", \"Code\", \"Year\", \"Season\", \"announce_day\", \"Date\", \"TTM_PE\", \"EPS_growth\", \"Expeceted_Dividend_Rate\", \"Position\", \"Close\"]"
   ]
  },
  {
   "cell_type": "code",
   "execution_count": 10,
   "metadata": {
    "collapsed": true
   },
   "outputs": [],
   "source": [
    "def decide_in_or_out(x):\n",
    "    x.reset_index(inplace = True)\n",
    "    if(x.Position.cumsum()[len(x) - 1] == 1):\n",
    "        if(x.Position[len(x) - 1] == 1):\n",
    "             return(np.append(x.Position[:(len(x) - 1)], 0))\n",
    "        elif(x.Position[len(x) - 1] == 0):\n",
    "            return(np.append(x.Position[:(len(x) - 1)], -1))\n",
    "    else:\n",
    "        return(np.array(x.Position[:(len(x))]))    "
   ]
  },
  {
   "cell_type": "code",
   "execution_count": 11,
   "metadata": {
    "collapsed": true
   },
   "outputs": [],
   "source": [
    "temp = temp_result.groupby(\"Code\", sort = False, as_index = False).apply(decide_in_or_out)\n",
    "\n",
    "result = []\n",
    "for i in range(len(temp)):\n",
    "    result = np.append(result, temp[i])\n",
    "    \n",
    "temp_result[\"Position_new\"] = result"
   ]
  },
  {
   "cell_type": "code",
   "execution_count": 12,
   "metadata": {},
   "outputs": [
    {
     "data": {
      "text/plain": [
       "array([], dtype=int64)"
      ]
     },
     "execution_count": 12,
     "metadata": {},
     "output_type": "execute_result"
    }
   ],
   "source": [
    "#定義函數檢查最後一天進出場狀況是否有問題\n",
    "def check(x):\n",
    "    x.reset_index(inplace = True)\n",
    "    return(x[\"Position_new\"].cumsum()[len(x)-1])\n",
    "\n",
    "temp_result.Code.unique()[temp_result.groupby(\"Code\",sort = False).apply(check) != 0]"
   ]
  },
  {
   "cell_type": "code",
   "execution_count": 13,
   "metadata": {
    "collapsed": true
   },
   "outputs": [],
   "source": [
    "#建立函數找出交易日\n",
    "def get_trade_data(x):\n",
    "    return(x[x.Position_new != 0])\n",
    "\n",
    "#執行函數\n",
    "result = temp_result.groupby(\"Code\", as_index = False, group_keys = False).apply(get_trade_data).reset_index(drop = True)"
   ]
  },
  {
   "cell_type": "code",
   "execution_count": 14,
   "metadata": {},
   "outputs": [
    {
     "name": "stderr",
     "output_type": "stream",
     "text": [
      "C:\\Users\\andy5\\Anaconda3\\lib\\site-packages\\ipykernel_launcher.py:10: SettingWithCopyWarning: \n",
      "A value is trying to be set on a copy of a slice from a DataFrame\n",
      "\n",
      "See the caveats in the documentation: http://pandas.pydata.org/pandas-docs/stable/indexing.html#indexing-view-versus-copy\n",
      "  # Remove the CWD from sys.path while we load stuff.\n"
     ]
    }
   ],
   "source": [
    "#整理進場資料\n",
    "result_in = result.iloc[range(0,len(result), 2), :]\n",
    "\n",
    "result_in.reset_index(inplace = True, drop = True)\n",
    "\n",
    "#整理出場資料\n",
    "result_out = result.iloc[range(1,len(result), 2), :]\n",
    "\n",
    "result_out.drop(['Company', 'Industry', 'Year', 'Season', 'announce_day', 'TTM_PE',\n",
    "                 'EPS_growth', 'Expeceted_Dividend_Rate', 'Position','Position_new'], axis = 1, inplace = True)\n",
    "\n",
    "result_out.reset_index(inplace = True, drop = True)\n",
    "result_out.columns = [\"Code_out\", \"Date_out\", \"Close_out\"]\n",
    "\n",
    "#合併進出場資料\n",
    "result = pd.concat([result_in, result_out], axis = 1)"
   ]
  },
  {
   "cell_type": "code",
   "execution_count": 15,
   "metadata": {
    "collapsed": true,
    "scrolled": false
   },
   "outputs": [],
   "source": [
    "#計算報酬與持有天數\n",
    "result[\"Return\"] = (result[\"Close_out\"] /  result[\"Close\"]) - 1\n",
    "result[\"holding_days\"] = (result[\"Date_out\"] - result[\"Date\"]).apply(lambda x : x.days)\n",
    "result[\"Daily_Return_geometry\"] = ((result[\"Close_out\"] /  result[\"Close\"]) ** (1 / result[\"holding_days\"])) - 1\n",
    "result[\"Daily_Return_arithmetic\"] = ((result[\"Close_out\"] / result[\"Close\"]) - 1) / result[\"holding_days\"]"
   ]
  },
  {
   "cell_type": "code",
   "execution_count": 16,
   "metadata": {
    "collapsed": true
   },
   "outputs": [],
   "source": [
    "result.to_csv(\"Result.csv\", index = False)"
   ]
  }
 ],
 "metadata": {
  "kernelspec": {
   "display_name": "Python 3",
   "language": "python",
   "name": "python3"
  },
  "language_info": {
   "codemirror_mode": {
    "name": "ipython",
    "version": 3
   },
   "file_extension": ".py",
   "mimetype": "text/x-python",
   "name": "python",
   "nbconvert_exporter": "python",
   "pygments_lexer": "ipython3",
   "version": "3.6.3"
  }
 },
 "nbformat": 4,
 "nbformat_minor": 2
}
