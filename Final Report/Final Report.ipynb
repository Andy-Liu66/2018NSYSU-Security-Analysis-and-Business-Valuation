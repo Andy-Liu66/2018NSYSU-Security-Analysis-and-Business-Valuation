{
 "cells": [
  {
   "cell_type": "code",
   "execution_count": 1,
   "metadata": {
    "collapsed": true
   },
   "outputs": [],
   "source": [
    "from main_strategy import *\n",
    "from datetime import datetime"
   ]
  },
  {
   "cell_type": "code",
   "execution_count": 2,
   "metadata": {},
   "outputs": [
    {
     "name": "stdout",
     "output_type": "stream",
     "text": [
      "Wall time: 1min 9s\n"
     ]
    }
   ],
   "source": [
    "%%time\n",
    "data = pd.read_csv(\"data.csv\", low_memory=False)\n",
    "data.columns = [\"Code\", \"Company\", \"Industry\", \"Date\", \"Open\", \"High\", \"Low\", \"Close\", \"Volume\", \"MV\", \"PB\"]\n",
    "data.Date = data.Date.apply(lambda x : datetime.strptime(x, \"%Y/%m/%d\"))\n",
    "\n",
    "#find which years included in data\n",
    "data_year = data.Date.apply(lambda x : x.year).unique()\n",
    "\n",
    "#find unique trading date in data\n",
    "data_date = pd.DataFrame(data.Date.unique(), columns = [\"Date\"])\n",
    "\n",
    "#find first trading date for each year, these dates will be used as entry points/exit points during backtesting\n",
    "first_date_each_year = []\n",
    "for year in data_year:\n",
    "    temp = data_date[data_date.Date.apply(lambda x : x.year == year)].min()[\"Date\"]\n",
    "    first_date_each_year.append(temp)"
   ]
  },
  {
   "cell_type": "code",
   "execution_count": 3,
   "metadata": {
    "collapsed": true
   },
   "outputs": [],
   "source": [
    "from test import *"
   ]
  },
  {
   "cell_type": "code",
   "execution_count": 4,
   "metadata": {},
   "outputs": [],
   "source": [
    "main = strategy(data, data_year, data_date, first_date_each_year)"
   ]
  },
  {
   "cell_type": "code",
   "execution_count": 5,
   "metadata": {},
   "outputs": [
    {
     "data": {
      "text/plain": [
       "89.0944474362976"
      ]
     },
     "execution_count": 5,
     "metadata": {},
     "output_type": "execute_result"
    }
   ],
   "source": [
    "main.calculate_return(trade_mode='A')"
   ]
  },
  {
   "cell_type": "code",
   "execution_count": 6,
   "metadata": {},
   "outputs": [
    {
     "data": {
      "text/plain": [
       "72752.873753842417"
      ]
     },
     "execution_count": 6,
     "metadata": {},
     "output_type": "execute_result"
    }
   ],
   "source": [
    "main.calculate_return(trade_mode='B')"
   ]
  },
  {
   "cell_type": "code",
   "execution_count": 7,
   "metadata": {},
   "outputs": [
    {
     "data": {
      "text/plain": [
       "70114.403384867459"
      ]
     },
     "execution_count": 7,
     "metadata": {},
     "output_type": "execute_result"
    }
   ],
   "source": [
    "main.calculate_return(trade_mode='C')"
   ]
  }
 ],
 "metadata": {
  "kernelspec": {
   "display_name": "Python 3",
   "language": "python",
   "name": "python3"
  },
  "language_info": {
   "codemirror_mode": {
    "name": "ipython",
    "version": 3
   },
   "file_extension": ".py",
   "mimetype": "text/x-python",
   "name": "python",
   "nbconvert_exporter": "python",
   "pygments_lexer": "ipython3",
   "version": "3.6.3"
  }
 },
 "nbformat": 4,
 "nbformat_minor": 2
}
