{
 "cells": [
  {
   "cell_type": "code",
   "execution_count": 1,
   "metadata": {
    "collapsed": true
   },
   "outputs": [],
   "source": [
    "import pandas as pd\n",
    "import numpy as np\n",
    "from datetime import datetime"
   ]
  },
  {
   "cell_type": "markdown",
   "metadata": {},
   "source": [
    "## Data Preprocess"
   ]
  },
  {
   "cell_type": "code",
   "execution_count": 2,
   "metadata": {
    "scrolled": true
   },
   "outputs": [
    {
     "name": "stdout",
     "output_type": "stream",
     "text": [
      "Wall time: 60 s\n"
     ]
    }
   ],
   "source": [
    "%%time\n",
    "data = pd.read_csv(\"data.csv\", low_memory=False)\n",
    "data.columns = [\"Code\", \"Company\", \"Industry\", \"Date\", \"Open\", \"High\", \"Low\", \"Close\", \"Volume\", \"MV\", \"PB\"]\n",
    "data.Date = data.Date.apply(lambda x : datetime.strptime(x, \"%Y/%m/%d\"))\n",
    "data.head()"
   ]
  },
  {
   "cell_type": "markdown",
   "metadata": {},
   "source": [
    "**MV** is Market Value(in million NTD), **PB** is Price to Book ratio."
   ]
  },
  {
   "cell_type": "code",
   "execution_count": 3,
   "metadata": {
    "collapsed": true,
    "scrolled": true
   },
   "outputs": [],
   "source": [
    "#find which years included in data\n",
    "data_year = data.Date.apply(lambda x : x.year).unique()\n",
    "\n",
    "#find unique trading date in data\n",
    "data_date = pd.DataFrame(data.Date.unique(), columns = [\"Date\"])\n",
    "\n",
    "#find first trading date for each year, these dates will be used as entry points/exit points during backtesting\n",
    "first_date_each_year = []\n",
    "for year in data_year:\n",
    "    temp = data_date[data_date.Date.apply(lambda x : x.year == year)].min()[\"Date\"]\n",
    "    first_date_each_year.append(temp)"
   ]
  },
  {
   "cell_type": "markdown",
   "metadata": {},
   "source": [
    "## Backtest"
   ]
  },
  {
   "cell_type": "code",
   "execution_count": 57,
   "metadata": {
    "collapsed": true
   },
   "outputs": [],
   "source": [
    "def selected_company(data = data, num_selected = 10, by = \"MV\", ascending = True, least_volume = 10, trade_mode = \"A\"):\n",
    "    \n",
    "    data = data\n",
    "    #empty dataframe to collect result\n",
    "    selected_data = pd.DataFrame([])\n",
    "    for i in range(len(first_date_each_year)):\n",
    "        \n",
    "        #entry point\n",
    "        date_in = first_date_each_year[i]\n",
    "        #exit point == a year after entry point (use the latest date of data when dealing with last year)\n",
    "        try:\n",
    "            date_out = first_date_each_year[i + 1]\n",
    "        except:\n",
    "            date_out = data_date.iloc[-1, :][\"Date\"]\n",
    "            \n",
    "        #deal with entry trade\n",
    "        #selected companies need to possess trading data on appointed date\n",
    "        temp_data_in = data[data.Volume >= least_volume]\n",
    "        #also need to meet the requirement of least trading volume(in case of liquidity risk)\n",
    "        temp_data_in = temp_data_in[temp_data_in.Date == date_in]\n",
    "        temp_data_in = temp_data_in.sort_values(by = by, ascending = ascending).reset_index(drop = True)\n",
    "        temp_data_in = temp_data_in.iloc[0:num_selected, :]\n",
    "        \n",
    "        #deal with exit trade\n",
    "        temp_data_out = pd.DataFrame([])\n",
    "        for code in temp_data_in.Code:\n",
    "            temp_company = data[data.Code == code]\n",
    "            temp_date_out = pd.DataFrame(temp_company.Date - date_out).Date.apply(lambda x : x.days)\n",
    "            try:\n",
    "                #find the closest exit point according to appointed point\n",
    "                temp_date_out = temp_company.Date[temp_date_out[temp_date_out >= 0].idxmin()]\n",
    "                temp_result_out = temp_company[temp_company.Date == temp_date_out]\n",
    "                temp_result_out.columns = (data.columns + \"_out\")\n",
    "                \n",
    "                #if exit point's trade volume don't meet the requirement of least volume, then do:\n",
    "                if temp_result_out[\"Volume_out\"].values < least_volume:\n",
    "                    #in trade mode \"A, set exit price = 0(more realistic, because we maybe unable to sell at such a low liquidity)\n",
    "                    if trade_mode == \"A\":\n",
    "                        temp_result_out = pd.DataFrame([[0] * len(data.columns)], columns = (data.columns + \"_out\"))\n",
    "                    #in trade mode \"B\", set exit price = entry price\n",
    "                    if trade_mode == \"B\":\n",
    "                        temp_result_out = temp_data_in[temp_data_in.Code == code]\n",
    "                        temp_result_out.columns = (data.columns + \"_out\")\n",
    "                    \n",
    "            #if the company was unlisted, then for loop would jump to except, set exit price = 0\n",
    "            except:\n",
    "                temp_result_out = pd.DataFrame([[0] * len(data.columns)], columns = (data.columns + \"_out\"))\n",
    "\n",
    "            temp_data_out = pd.concat([temp_data_out, temp_result_out], axis = 0)\n",
    "            temp_data_out.reset_index(inplace = True, drop = True)\n",
    "        \n",
    "        temp_selected_data = pd.concat([temp_data_in,  temp_data_out], axis = 1)\n",
    "        selected_data = pd.concat([selected_data, temp_selected_data], axis = 0)\n",
    "        \n",
    "    total_return = (sum(selected_data[\"Close_out\"]) - sum(selected_data[\"Close\"])) / sum(selected_data[\"Close\"])\n",
    "    return selected_data# total_return"
   ]
  },
  {
   "cell_type": "code",
   "execution_count": 58,
   "metadata": {
    "scrolled": false
   },
   "outputs": [
    {
     "name": "stdout",
     "output_type": "stream",
     "text": [
      "Wall time: 9.79 s\n"
     ]
    }
   ],
   "source": [
    "%%time\n",
    "test = selected_company(data=data, num_selected=10, by='MV', ascending=True, least_volume=10, trade_mode='A')"
   ]
  },
  {
   "cell_type": "code",
   "execution_count": 64,
   "metadata": {
    "scrolled": true
   },
   "outputs": [],
   "source": [
    "test_date = test.Date.unique()[0]"
   ]
  },
  {
   "cell_type": "code",
   "execution_count": null,
   "metadata": {
    "collapsed": true
   },
   "outputs": [],
   "source": [
    "100000 / "
   ]
  },
  {
   "cell_type": "code",
   "execution_count": 66,
   "metadata": {
    "scrolled": true
   },
   "outputs": [
    {
     "data": {
      "text/plain": [
       "0     1.11\n",
       "1     0.66\n",
       "2     4.30\n",
       "3     3.17\n",
       "4     2.83\n",
       "5    89.46\n",
       "6     3.49\n",
       "7    11.28\n",
       "8    25.95\n",
       "9     9.91\n",
       "Name: Close, dtype: float64"
      ]
     },
     "execution_count": 66,
     "metadata": {},
     "output_type": "execute_result"
    }
   ],
   "source": [
    "test[test.Date == test_date][\"Close\"]"
   ]
  },
  {
   "cell_type": "code",
   "execution_count": 70,
   "metadata": {
    "collapsed": true
   },
   "outputs": [],
   "source": [
    "temp = data[data.Date == data.Date.unique()[0]]"
   ]
  },
  {
   "cell_type": "code",
   "execution_count": 71,
   "metadata": {},
   "outputs": [
    {
     "data": {
      "text/plain": [
       "10"
      ]
     },
     "execution_count": 71,
     "metadata": {},
     "output_type": "execute_result"
    }
   ],
   "source": [
    "len(temp)"
   ]
  },
  {
   "cell_type": "code",
   "execution_count": 75,
   "metadata": {},
   "outputs": [
    {
     "data": {
      "text/plain": [
       "0    0.046942\n",
       "1    0.063300\n",
       "2    0.064723\n",
       "3    0.073257\n",
       "4    0.089616\n",
       "5    0.109531\n",
       "6    0.124467\n",
       "7    0.137269\n",
       "8    0.145092\n",
       "9    0.145804\n",
       "Name: MV, dtype: float64"
      ]
     },
     "execution_count": 75,
     "metadata": {},
     "output_type": "execute_result"
    }
   ],
   "source": [
    "temp.MV / temp.MV.sum()"
   ]
  },
  {
   "cell_type": "code",
   "execution_count": null,
   "metadata": {
    "collapsed": true
   },
   "outputs": [],
   "source": [
    "def calculate_return(data, weight_mode = \"equal\"):\n",
    "    \n",
    "    for date in data.Date.unique():\n",
    "        temp = data[data.Date == date]\n",
    "        \n",
    "        if weight_mode == \"equal\":\n",
    "            weight_array = [1/len(temp)] * 10\n",
    "        if weight_mode == \"MV\":\n",
    "            weight_array = temp.MV / temp.MV.sum()\n",
    "            \n",
    "        "
   ]
  }
 ],
 "metadata": {
  "kernelspec": {
   "display_name": "Python 3",
   "language": "python",
   "name": "python3"
  },
  "language_info": {
   "codemirror_mode": {
    "name": "ipython",
    "version": 3
   },
   "file_extension": ".py",
   "mimetype": "text/x-python",
   "name": "python",
   "nbconvert_exporter": "python",
   "pygments_lexer": "ipython3",
   "version": "3.6.3"
  }
 },
 "nbformat": 4,
 "nbformat_minor": 2
}
